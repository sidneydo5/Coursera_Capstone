{
 "cells": [
  {
   "cell_type": "markdown",
   "metadata": {},
   "source": [
    "Introduction/Business Problem"
   ]
  },
  {
   "cell_type": "markdown",
   "metadata": {},
   "source": [
    "I propse that the streets of downtown Seattle Washington could do with a checkup on their safety protocols when it comes to traffic safety. In order to understand where we want to go in answering this question, we need to see where we have come from. I propose that by examining different angles of traffic safety information available from public record, we can better understand the challenges we need to face. As we gain a better understanding, we will be able to propose solutions to reduce injuries and fatalities, increase safety and raise the quality of everyone's commuting experience in downtown Seattle. As one simple way to gain understanding of how to increase safety, I intend to see how accident severity correlates to vehicle collision type. Even with this simple understanding, we can see if certain collision types are more damaging than others to body and property. (We can then, in the future, see how vehicle type and location type correlates with these findings.) Obviously, we can gain understanding by looking at other correlations, but this will be the focus of this project."
   ]
  },
  {
   "cell_type": "markdown",
   "metadata": {},
   "source": [
    "Data"
   ]
  },
  {
   "cell_type": "markdown",
   "metadata": {},
   "source": [
    "For this project, I will be using a publicly available dataset for Seattle, WA traffic collisions. (The link to the dataset is here: https://s3.us.cloud-object-storage.appdomain.cloud/cf-courses-data/CognitiveClass/DP0701EN/version-2/Data-Collisions.csv.) I will be using a combination of machine learning and/or correlation tools to see if we can understand the relationship between the \"Severity Code\" and \"CollisionType\" columns. I hope to be able to recommend a couple or so collision types that tend to result in more severe injuries or even fatalities. This will be used to recommend areas of consideration for the most critical safety improvements to Seattle's city council."
   ]
  },
  {
   "cell_type": "code",
   "execution_count": null,
   "metadata": {},
   "outputs": [],
   "source": []
  }
 ],
 "metadata": {
  "kernelspec": {
   "display_name": "Python 3",
   "language": "python",
   "name": "python3"
  },
  "language_info": {
   "codemirror_mode": {
    "name": "ipython",
    "version": 3
   },
   "file_extension": ".py",
   "mimetype": "text/x-python",
   "name": "python",
   "nbconvert_exporter": "python",
   "pygments_lexer": "ipython3",
   "version": "3.7.4"
  }
 },
 "nbformat": 4,
 "nbformat_minor": 4
}
